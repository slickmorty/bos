{
 "cells": [
  {
   "cell_type": "code",
   "execution_count": null,
   "metadata": {},
   "outputs": [],
   "source": [
    "#Settings and imports\n",
    "from settings.settings import data_settings\n",
    "\n",
    "import pandas as pd\n",
    "import matplotlib.pyplot as plt\n",
    "import ta\n",
    "pd.options.display.max_seq_items = 2000\n",
    "pd.options.display.max_rows = 200"
   ]
  },
  {
   "cell_type": "code",
   "execution_count": null,
   "metadata": {},
   "outputs": [],
   "source": [
    "#READ ALL DATA\n",
    "# df = pd.read_csv(data_settings.formatted_data_path)\n",
    "# df.pop(\"Volume\")\n",
    "\n",
    "# date_time = pd.to_datetime(df.pop(\"DateTime\"),format=data_settings.date_time_format)\n",
    "# df[\"DateTime\"]= date_time\n",
    "\n",
    "# df[\"ATR\"]= ta.volatility.average_true_range(df[\"High\"],df[\"Low\"],df[\"Close\"])\n",
    "# df = df[13:].reset_index(drop=True)"
   ]
  },
  {
   "cell_type": "code",
   "execution_count": null,
   "metadata": {},
   "outputs": [],
   "source": [
    "#SPLIT INTO PART\n",
    "# df_parts = [\n",
    "#             df[len(df)//8 * 0:len(df)//8 * 1 +290].reset_index(drop=True),\n",
    "#             df[len(df)//8 * 1:len(df)//8 * 2 +290].reset_index(drop=True),\n",
    "#             df[len(df)//8 * 2:len(df)//8 * 3 +290].reset_index(drop=True),\n",
    "#             df[len(df)//8 * 3:len(df)//8 * 4 +290].reset_index(drop=True),\n",
    "#             df[len(df)//8 * 4:len(df)//8 * 5 +290].reset_index(drop=True),\n",
    "#             df[len(df)//8 * 5:len(df)//8 * 6 +290].reset_index(drop=True),\n",
    "#             df[len(df)//8 * 6:len(df)//8 * 7 +290].reset_index(drop=True),\n",
    "#             df[len(df)//8 * 7:len(df)//8 * 8 +290].reset_index(drop=True)\n",
    "#             ]\n",
    "# for index , df_part in enumerate(df_parts):\n",
    "#     df_part.to_csv(data_settings.data_without_targets_parts_paths[index],index=False)"
   ]
  },
  {
   "cell_type": "code",
   "execution_count": null,
   "metadata": {},
   "outputs": [],
   "source": [
    "#JOIN THE PARTS\n",
    "# df_parts = [pd.read_csv(path) for path in data_settings.data_with_targets_parts_paths]\n",
    "# df = pd.concat([part[:-290] for part in df_parts]).reset_index(drop=True)\n",
    "# df.to_csv(data_settings.data_with_target_path,index=False)\n",
    "# print(\n",
    "# f\"{len(df[df.buy_1==1])=}\\n\",\n",
    "# f\"{len(df[df.buy_2==1])=}\\n\",\n",
    "# f\"{len(df[df.buy_4==1])=}\\n\",\n",
    "# f\"{len(df[df.buy_8==1])=}\\n\",\n",
    "# f\"{len(df[df.buy_16==1])=}\\n\",\n",
    "# f\"{len(df[df.sell_1==1])=}\\n\",\n",
    "# f\"{len(df[df.sell_2==1])=}\\n\",\n",
    "# f\"{len(df[df.sell_4==1])=}\\n\",\n",
    "# f\"{len(df[df.sell_8==1])=}\\n\",\n",
    "# f\"{len(df[df.sell_16==1])=}\\n\",\n",
    "# f\"{len(df[df.do_nothing==1])=}\\n\",\n",
    "# )"
   ]
  },
  {
   "cell_type": "code",
   "execution_count": null,
   "metadata": {},
   "outputs": [],
   "source": [
    "# image_path = \"D:/dev/workspace/vscode/python/bos/data/indicators/images/histograms/\"\n",
    "# for column in df.columns:\n",
    "#     _=plt.hist(df[column],bins=50)\n",
    "#     plt.savefig(f\"{image_path}{column}.png\")\n",
    "    "
   ]
  }
 ],
 "metadata": {
  "interpreter": {
   "hash": "c2de3e1bf81edded1c3d503950fb3da245a494c9cfd386bda3f6984d7c31e4ce"
  },
  "kernelspec": {
   "display_name": "Python 3.9.7 ('fpp')",
   "language": "python",
   "name": "python3"
  },
  "language_info": {
   "codemirror_mode": {
    "name": "ipython",
    "version": 3
   },
   "file_extension": ".py",
   "mimetype": "text/x-python",
   "name": "python",
   "nbconvert_exporter": "python",
   "pygments_lexer": "ipython3",
   "version": "3.9.7"
  },
  "orig_nbformat": 4
 },
 "nbformat": 4,
 "nbformat_minor": 2
}
