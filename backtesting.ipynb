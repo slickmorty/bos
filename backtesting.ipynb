{
 "cells": [
  {
   "cell_type": "code",
   "execution_count": null,
   "metadata": {},
   "outputs": [],
   "source": [
    "from settings.settings import data_settings\n",
    "\n",
    "import pandas as pd\n"
   ]
  },
  {
   "cell_type": "code",
   "execution_count": null,
   "metadata": {},
   "outputs": [],
   "source": [
    "df = pd.read_csv(data_settings.data_with_target_path)\n",
    "df.shape\n",
    "full_df = df.copy()"
   ]
  },
  {
   "cell_type": "code",
   "execution_count": null,
   "metadata": {},
   "outputs": [],
   "source": [
    "\n",
    "df = full_df[-1_000:].reset_index(drop=True)\n",
    "df.head()"
   ]
  },
  {
   "cell_type": "code",
   "execution_count": null,
   "metadata": {},
   "outputs": [],
   "source": [
    "import plotly.graph_objects as go\n",
    "\n",
    "sell = df.sell_2 * df.Close\n",
    "buy = df.buy_2 * df.Close\n",
    "\n",
    "for i in range(sell.shape[0]):\n",
    "    if sell.iloc[i]==0:\n",
    "        sell.loc[i]=None\n",
    "        \n",
    "    if buy.iloc[i]==0:\n",
    "        buy.loc[i]=None\n",
    "    \n",
    "fig = go.Figure(data=go.Ohlc(\n",
    "                    x=df['DateTime'],\n",
    "                    open=df['Open'],\n",
    "                    high=df['High'],\n",
    "                    low=df['Low'],\n",
    "                    close=df['Close']))\n",
    "\n",
    "fig.add_scatter(x=df.DateTime,y=sell , mode=\"markers\",marker=dict(size=2, color=\"LightBlue\"))\n",
    "fig.add_scatter(x=df.DateTime,y=buy , mode=\"markers\",marker=dict(size=2, color=\"Yellow\"))\n",
    "\n",
    "\n",
    "fig.show()\n"
   ]
  }
 ],
 "metadata": {
  "kernelspec": {
   "display_name": "Python 3.9.7 ('fpp')",
   "language": "python",
   "name": "python3"
  },
  "language_info": {
   "codemirror_mode": {
    "name": "ipython",
    "version": 3
   },
   "file_extension": ".py",
   "mimetype": "text/x-python",
   "name": "python",
   "nbconvert_exporter": "python",
   "pygments_lexer": "ipython3",
   "version": "3.9.7"
  },
  "orig_nbformat": 4,
  "vscode": {
   "interpreter": {
    "hash": "c2de3e1bf81edded1c3d503950fb3da245a494c9cfd386bda3f6984d7c31e4ce"
   }
  }
 },
 "nbformat": 4,
 "nbformat_minor": 2
}
