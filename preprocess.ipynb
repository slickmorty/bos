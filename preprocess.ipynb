{
 "cells": [
  {
   "cell_type": "code",
   "execution_count": 21,
   "metadata": {},
   "outputs": [],
   "source": [
    "#SETTINGS and imports\n",
    "\n",
    "from settings.settings import data_settings\n",
    "\n",
    "import pandas as pd\n",
    "import numpy as np\n",
    "pd.options.display.max_seq_items = 2000\n",
    "pd.options.display.max_rows = 200\n",
    "pd.options.display.max_columns = 1000\n"
   ]
  },
  {
   "cell_type": "code",
   "execution_count": 43,
   "metadata": {},
   "outputs": [],
   "source": [
    "name = data_settings.data_name.replace(\"_R\",\"\")\n",
    "df = pd.read_csv(f\"{data_settings.csv_path}/with_class/{name}_slatr_{data_settings.sl_to_atr:02}.csv\")\n",
    "# df.fillna(0,inplace=True)\n",
    "df[\"DateTime\"] = pd.to_datetime(df.pop(\"DateTime\"))\n",
    "\n",
    "usefulls = [\"Open\", \"High\", \"Low\", \"Close\", \"TickVol\",\n",
    "            \"Spread\", \"buy_1\", \"buy_1.25\", \"buy_1.5\",\n",
    "            \"buy_1.75\", \"buy_2\", \"buy_4\", \"buy_6\",\"sell_1\",\n",
    "            \"sell_1.25\", \"sell_1.5\", \"sell_1.75\", \"sell_2\",\n",
    "            \"sell_4\", \"sell_6\", \"do_nothing\", \"windowsizes\", \"DateTime\"]\n",
    "\n",
    "for column in df.columns:\n",
    "    if column not in usefulls:\n",
    "        df.pop(column)\n",
    "        \n",
    "df.High = df.High.sub(df.Close.shift(1))\n",
    "df.Open = df.Open.sub(df.Close.shift(1))\n",
    "df.Low = df.Low.sub(df.Close.shift(1))\n",
    "df.Close = df.Close.diff()\n",
    "\n",
    "df.Close.replace(0,1e-15,inplace=True)\n",
    "\n",
    "df.to_csv(f\"{data_settings.csv_path}/cleaned_mt_data/{data_settings.data_name}.csv\",index = False)\n"
   ]
  },
  {
   "cell_type": "code",
   "execution_count": 36,
   "metadata": {},
   "outputs": [
    {
     "data": {
      "text/html": [
       "<div>\n",
       "<style scoped>\n",
       "    .dataframe tbody tr th:only-of-type {\n",
       "        vertical-align: middle;\n",
       "    }\n",
       "\n",
       "    .dataframe tbody tr th {\n",
       "        vertical-align: top;\n",
       "    }\n",
       "\n",
       "    .dataframe thead th {\n",
       "        text-align: right;\n",
       "    }\n",
       "</style>\n",
       "<table border=\"1\" class=\"dataframe\">\n",
       "  <thead>\n",
       "    <tr style=\"text-align: right;\">\n",
       "      <th></th>\n",
       "      <th>Open</th>\n",
       "      <th>High</th>\n",
       "      <th>Low</th>\n",
       "      <th>Close</th>\n",
       "      <th>TickVol</th>\n",
       "      <th>Spread</th>\n",
       "      <th>buy_1</th>\n",
       "      <th>buy_1.25</th>\n",
       "      <th>buy_1.5</th>\n",
       "      <th>buy_1.75</th>\n",
       "      <th>buy_2</th>\n",
       "      <th>buy_4</th>\n",
       "      <th>buy_6</th>\n",
       "      <th>sell_1</th>\n",
       "      <th>sell_1.25</th>\n",
       "      <th>sell_1.5</th>\n",
       "      <th>sell_1.75</th>\n",
       "      <th>sell_2</th>\n",
       "      <th>sell_4</th>\n",
       "      <th>sell_6</th>\n",
       "      <th>do_nothing</th>\n",
       "      <th>windowsizes</th>\n",
       "      <th>DateTime</th>\n",
       "    </tr>\n",
       "  </thead>\n",
       "  <tbody>\n",
       "  </tbody>\n",
       "</table>\n",
       "</div>"
      ],
      "text/plain": [
       "Empty DataFrame\n",
       "Columns: [Open, High, Low, Close, TickVol, Spread, buy_1, buy_1.25, buy_1.5, buy_1.75, buy_2, buy_4, buy_6, sell_1, sell_1.25, sell_1.5, sell_1.75, sell_2, sell_4, sell_6, do_nothing, windowsizes, DateTime]\n",
       "Index: []"
      ]
     },
     "execution_count": 36,
     "metadata": {},
     "output_type": "execute_result"
    }
   ],
   "source": [
    "df.loc[df.Close == 0]"
   ]
  },
  {
   "cell_type": "code",
   "execution_count": 42,
   "metadata": {},
   "outputs": [
    {
     "data": {
      "text/html": [
       "<div>\n",
       "<style scoped>\n",
       "    .dataframe tbody tr th:only-of-type {\n",
       "        vertical-align: middle;\n",
       "    }\n",
       "\n",
       "    .dataframe tbody tr th {\n",
       "        vertical-align: top;\n",
       "    }\n",
       "\n",
       "    .dataframe thead th {\n",
       "        text-align: right;\n",
       "    }\n",
       "</style>\n",
       "<table border=\"1\" class=\"dataframe\">\n",
       "  <thead>\n",
       "    <tr style=\"text-align: right;\">\n",
       "      <th></th>\n",
       "      <th>Open</th>\n",
       "      <th>High</th>\n",
       "      <th>Low</th>\n",
       "      <th>Close</th>\n",
       "      <th>TickVol</th>\n",
       "      <th>Spread</th>\n",
       "      <th>buy_1</th>\n",
       "      <th>buy_1.25</th>\n",
       "      <th>buy_1.5</th>\n",
       "      <th>buy_1.75</th>\n",
       "      <th>buy_2</th>\n",
       "      <th>buy_4</th>\n",
       "      <th>buy_6</th>\n",
       "      <th>sell_1</th>\n",
       "      <th>sell_1.25</th>\n",
       "      <th>sell_1.5</th>\n",
       "      <th>sell_1.75</th>\n",
       "      <th>sell_2</th>\n",
       "      <th>sell_4</th>\n",
       "      <th>sell_6</th>\n",
       "      <th>do_nothing</th>\n",
       "      <th>windowsizes</th>\n",
       "      <th>DateTime</th>\n",
       "    </tr>\n",
       "  </thead>\n",
       "  <tbody>\n",
       "  </tbody>\n",
       "</table>\n",
       "</div>"
      ],
      "text/plain": [
       "Empty DataFrame\n",
       "Columns: [Open, High, Low, Close, TickVol, Spread, buy_1, buy_1.25, buy_1.5, buy_1.75, buy_2, buy_4, buy_6, sell_1, sell_1.25, sell_1.5, sell_1.75, sell_2, sell_4, sell_6, do_nothing, windowsizes, DateTime]\n",
       "Index: []"
      ]
     },
     "execution_count": 42,
     "metadata": {},
     "output_type": "execute_result"
    }
   ],
   "source": [
    "df = pd.read_csv(f\"{data_settings.csv_path}/cleaned_mt_data/{data_settings.data_name}.csv\")\n",
    "# df.fillna(0,inplace=True)\n",
    "df[\"DateTime\"] = pd.to_datetime(df.pop(\"DateTime\"))\n",
    "df.loc[df.Close == 0]"
   ]
  },
  {
   "cell_type": "code",
   "execution_count": null,
   "metadata": {},
   "outputs": [],
   "source": [
    "# df.Close.plot()\n",
    "# df.High.plot()\n",
    "# df.Low.plot()\n",
    "# df.Open.plot()"
   ]
  },
  {
   "cell_type": "code",
   "execution_count": null,
   "metadata": {},
   "outputs": [],
   "source": []
  },
  {
   "cell_type": "code",
   "execution_count": null,
   "metadata": {},
   "outputs": [],
   "source": [
    "import seaborn as sns\n",
    "import matplotlib as mpl\n",
    "import ta\n",
    "mpl.rcParams[\"figure.figsize\"]= (40,20)\n",
    "sns.set_theme(style=\"darkgrid\")\n",
    "\n",
    "i = 5\n",
    "df[\"A\"] = df.Close.diff()\n",
    "df[\"A_EMA\"] = ta.trend.ema_indicator(df[\"A\"],24)\n",
    "a = df[-2000:]\n",
    "data_preproc = a[[\"DateTime\",\"A_EMA\"]]\n",
    " \n",
    "g = sns.relplot(x=\"DateTime\", y=\"value\", data=pd.melt(data_preproc, ['DateTime']),hue=\"variable\",height=10,aspect=2,kind=\"line\")#,style=\"buy_1\"\n",
    "\n",
    "g.figure.autofmt_xdate()"
   ]
  },
  {
   "cell_type": "code",
   "execution_count": null,
   "metadata": {},
   "outputs": [],
   "source": [
    "df.AVERAGE_TRUE_RANGE.describe().transpose()\n"
   ]
  },
  {
   "cell_type": "code",
   "execution_count": null,
   "metadata": {},
   "outputs": [],
   "source": [
    "import seaborn as sns\n",
    "import matplotlib as mpl\n",
    "mpl.rcParams[\"figure.figsize\"]= (40,20)\n",
    "sns.set_theme(style=\"darkgrid\")\n",
    "\n",
    "\n",
    "key = \"buy_1.25\"\n",
    "# g = sns.relplot(x=\"DateTime\", y=\"Close\", data=df,height=10,aspect=2,style=\"buy_1\")#kind=\"line\",\n",
    "g=sns.scatterplot(data=df, x=\"DateTime\", y=\"Close\", hue=key)\n",
    "g.figure.autofmt_xdate()\n",
    "\n",
    "# key = \"buy_2\"\n",
    "# g=sns.scatterplot(data=df, x=\"DateTime\", y=\"Close\", hue=key)\n",
    "# g.figure.autofmt_xdate()\n"
   ]
  },
  {
   "cell_type": "code",
   "execution_count": null,
   "metadata": {},
   "outputs": [],
   "source": [
    "i = 1.75\n",
    "print(\"All\",df.shape[0])\n",
    "print(\"Do nothings:\",df.loc[df[f\"sell_{i}\"] == 0].loc[df[f\"buy_{i}\"] ==0].shape[0])\n",
    "print(\"Sells:\",df.loc[df[f\"sell_{i}\"] == 1].shape[0])\n",
    "print(\"Buys:\",df.loc[df[f\"buy_{i}\"] == 1].shape[0])\n"
   ]
  },
  {
   "cell_type": "code",
   "execution_count": null,
   "metadata": {},
   "outputs": [],
   "source": [
    "print(df.loc[df[\"sell_2\"]==1].loc[df[\"sell_1\"]==1].shape[0])"
   ]
  },
  {
   "cell_type": "code",
   "execution_count": null,
   "metadata": {},
   "outputs": [],
   "source": [
    "# LOADING DATA\n",
    "# df_with_target = pd.read_csv(data_settings.data_with_target_path)\n",
    "# df_with_indicators = pd.read_csv(data_settings.data_with_indicators_path)\n",
    "df_final_not_cleaned = pd.read_csv(data_settings.data_final_not_cleaned_path)\n",
    "df_final_not_cleaned"
   ]
  },
  {
   "cell_type": "code",
   "execution_count": null,
   "metadata": {},
   "outputs": [],
   "source": [
    "# MAKING A READY DF\n",
    "df = df_final_not_cleaned.copy()\n",
    "\n",
    "# df.pop(df.PSAR_DOWN.name)\n",
    "# df.pop(df.PSAR_UP.name)\n",
    "# df.pop(df.KAMA.name)\n",
    "df.pop(df.AVERAGE_TRUE_RANGE.name)\n",
    "df=df.dropna().reset_index(drop=True)\n",
    "\n",
    "date_time = pd.to_datetime(df.pop(\"DateTime\"),format=data_settings.date_time_format)\n",
    "timestamps = date_time.map(pd.Timestamp.timestamp)\n",
    "\n",
    "day = 24*60*60\n",
    "year = (365.2425)*day\n",
    "df[\"Day_sin\"] = (np.sin(timestamps * (2 * np.pi / day))+1)/2\n",
    "df[\"Day_cos\"] = (np.cos(timestamps * (2 * np.pi / day))+1)/2\n",
    "df[\"Year_sin\"] = (np.sin(timestamps * (2 * np.pi / year))+1)/2\n",
    "df[\"Year_cos\"] = (np.cos(timestamps * (2 * np.pi / year))+1)/2\n",
    "\n",
    "# plt.plot(np.array(df[\"Day_sin\"])[:1000])\n",
    "# plt.plot(np.array(df[\"Day_cos\"])[:1000])\n",
    "# plt.plot(np.array(df[\"Year_sin\"])[:1000])\n",
    "# plt.plot(np.array(df[\"Year_cos\"])[:1000])\n",
    "\n",
    "#make targets\n",
    "df.pop(df.buy_1.name)\n",
    "df.pop(df.buy_2.name)\n",
    "df.pop(df.buy_8.name)\n",
    "df.pop(df.buy_16.name)\n",
    "\n",
    "df.pop(df.sell_1.name)\n",
    "df.pop(df.sell_2.name)\n",
    "df.pop(df.sell_8.name)\n",
    "df.pop(df.sell_16.name)\n",
    "df.pop(df.windowsizes.name)\n",
    "df.pop(df.do_nothing.name)\n",
    "\n",
    "do_nothings = []\n",
    "for i in range(len(df)):\n",
    "    if(df.buy_4.iloc[i]==0 and df.sell_4.iloc[i]==0):\n",
    "        do_nothings.append(1)\n",
    "    else:\n",
    "        do_nothings.append(0)\n",
    "        \n",
    "df[\"do_nothing\"]= do_nothings\n",
    "df[\"DateTime\"]= date_time\n",
    "\n",
    "df.to_csv(data_settings.data_final_path,index=False)"
   ]
  },
  {
   "cell_type": "code",
   "execution_count": null,
   "metadata": {},
   "outputs": [],
   "source": [
    "# Split to train and test\n",
    "\n",
    "n=len(df)\n",
    "train_df = df[:int((0.85)*n)].reset_index(drop=True)\n",
    "test_df = df[int((0.85)*n):].reset_index(drop=True)\n",
    "train_df.to_csv(data_settings.data_train_path,index=False)\n",
    "test_df.to_csv(data_settings.data_test_path,index=False)"
   ]
  },
  {
   "cell_type": "code",
   "execution_count": null,
   "metadata": {},
   "outputs": [],
   "source": [
    "# train = pd.read_csv(data_settings.data_train_path)\n",
    "# test = pd.read_csv(data_settings.data_test_path)"
   ]
  },
  {
   "cell_type": "code",
   "execution_count": null,
   "metadata": {},
   "outputs": [],
   "source": [
    "train_df = pd.read_csv(data_settings.data_train_path)\n",
    "test_df = pd.read_csv(data_settings.data_test_path)\n",
    "window_size = data_settings.window_size\n",
    "\n",
    "test_buy = test_df.pop(test_df.buy_4.name)\n",
    "test_nothing= test_df.pop(test_df.do_nothing.name)\n",
    "test_sell = test_df.pop(test_df.sell_4.name)\n",
    "\n",
    "train_buy = train_df.pop(train_df.buy_4.name)\n",
    "train_nothing = train_df.pop(train_df.do_nothing.name)\n",
    "train_sell = train_df.pop(train_df.sell_4.name)"
   ]
  },
  {
   "cell_type": "code",
   "execution_count": null,
   "metadata": {},
   "outputs": [],
   "source": [
    "test_labels = (\n",
    "                test_buy.to_numpy(),\n",
    "                test_nothing.to_numpy(),\n",
    "                test_sell.to_numpy()\n",
    "               )\n",
    "test_labels = np.array(test_labels)\n",
    "test_labels = test_labels.transpose()\n",
    "test_labels = test_labels.astype(\"float32\")\n",
    "\n",
    "train_labels = (\n",
    "                train_buy.to_numpy(),\n",
    "                train_nothing.to_numpy(),\n",
    "                train_sell.to_numpy()\n",
    "               )\n",
    "train_labels = np.array(train_labels)\n",
    "train_labels = train_labels.transpose()\n",
    "train_labels = train_labels.astype(\"float32\")"
   ]
  },
  {
   "cell_type": "code",
   "execution_count": null,
   "metadata": {},
   "outputs": [],
   "source": [
    "def x_train_generator():\n",
    "    for i in range(window_size,len(train_df)):\n",
    "        window=train_df[i-window_size:i]\n",
    "        yield ((window-window.min())/(window.max()-window.min())).to_numpy()\n",
    "\n",
    "def x_test_generator():\n",
    "    for i in range(window_size,len(test_df)):\n",
    "        window=test_df[i-window_size:i]\n",
    "        yield ((window-window.min())/(window.max()-window.min())).to_numpy()    \n",
    "        \n",
    "def y_train_generator():\n",
    "    for i in range(window_size-1,train_labels.shape[0]):\n",
    "        yield train_labels[i]\n",
    "\n",
    "def y_test_generator():\n",
    "    for i in range(window_size-1,test_labels.shape[0]):\n",
    "        yield test_labels[i]\n",
    "        \n",
    "x_train_ds = tf.data.Dataset.from_generator(x_train_generator\n",
    "                                        output_signature=(\n",
    "                                            tf.TensorSpec(shape=(256,101), dtype=tf.float64)\n",
    "                                            )\n",
    "                                        ).batch(256)\n",
    "\n",
    "x_test_ds = tf.data.Dataset.from_generator(x_test_generator,\n",
    "                                        output_signature=(\n",
    "                                            tf.TensorSpec(shape=(256,101), dtype=tf.float64)\n",
    "                                            )\n",
    "                                        ).batch(256)\n",
    "y_train_ds = tf.data.Dataset.from_generator(y_train_generator,\n",
    "                                        output_signature=(\n",
    "                                            tf.TensorSpec(shape=(3), dtype=tf.float32)\n",
    "                                            )\n",
    "                                        ).batch(256)\n",
    "y_test_ds = tf.data.Dataset.from_generator(y_test_generator,\n",
    "                                        output_signature=(\n",
    "                                            tf.TensorSpec(shape=(3), dtype=tf.float32)\n",
    "                                            )\n",
    "                                        ).batch(256)\n",
    "\n",
    "train_ds = tf.data.Dataset.zip((x_train_ds,y_train_ds))\n",
    "test_ds = tf.data.Dataset.zip((x_test_ds,y_test_ds))"
   ]
  },
  {
   "cell_type": "code",
   "execution_count": null,
   "metadata": {},
   "outputs": [],
   "source": [
    "def money(initial,percent,month):\n",
    "    \n",
    "    if month ==0 :\n",
    "        return initial\n",
    "    \n",
    "    else:\n",
    "        return percent * money(initial,percent,month-1) + money(initial,percent,month-1)\n",
    "    \n"
   ]
  }
 ],
 "metadata": {
  "interpreter": {
   "hash": "c2de3e1bf81edded1c3d503950fb3da245a494c9cfd386bda3f6984d7c31e4ce"
  },
  "kernelspec": {
   "display_name": "Python 3.9.7 ('fpp')",
   "language": "python",
   "name": "python3"
  },
  "language_info": {
   "codemirror_mode": {
    "name": "ipython",
    "version": 3
   },
   "file_extension": ".py",
   "mimetype": "text/x-python",
   "name": "python",
   "nbconvert_exporter": "python",
   "pygments_lexer": "ipython3",
   "version": "3.9.7"
  },
  "orig_nbformat": 4
 },
 "nbformat": 4,
 "nbformat_minor": 2
}
